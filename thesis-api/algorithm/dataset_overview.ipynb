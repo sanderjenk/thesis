{
 "cells": [
  {
   "cell_type": "code",
   "execution_count": 2,
   "id": "92a0cb18-e2e6-4a87-bf5a-d6f9ec986094",
   "metadata": {},
   "outputs": [
    {
     "name": "stdout",
     "output_type": "stream",
     "text": [
      "starting nr of issues 111048\n",
      "add_backlog_completed_flag\n",
      "after backlog and done filtering 74878\n",
      "removed 36170\n",
      "add_businessvalue\n",
      "merge_desc_sum\n",
      "add_preprocessed_text\n"
     ]
    }
   ],
   "source": [
    "import pandas as pd\n",
    "\n",
    "from helpers import preprocessing as pp\n",
    "from helpers import other_helpers as h\n",
    "\n",
    "dataset = pd.read_csv('../dataset/jiradataset_issues_v1.4.csv', encoding='utf-8')\n",
    "dataset = pp.preprocess(dataset)\n"
   ]
  },
  {
   "cell_type": "code",
   "execution_count": 3,
   "id": "a40e02b5",
   "metadata": {},
   "outputs": [
    {
     "name": "stdout",
     "output_type": "stream",
     "text": [
      "['assignee.name', 'components', 'created', 'creator.name', 'description', 'fixVersions', 'issuetype.name', 'issuetype.subtask', 'priority.name', 'reporter.name', 'resolution.description', 'resolution.name', 'resolutiondate', 'status.id', 'status.name', 'status.statusCategory.name', 'summary', 'updated', 'versions', 'watches.watchCount', 'key', 'storypoints', 'project', 'sprint', 'backlog', 'done', 'priority', 'businessvalue', 'text', 'preprocessed_text']\n"
     ]
    }
   ],
   "source": [
    "print(dataset.columns.tolist())\n"
   ]
  },
  {
   "cell_type": "code",
   "execution_count": 2,
   "id": "347e9da1-b086-4494-928d-d2a13bd34d77",
   "metadata": {},
   "outputs": [
    {
     "name": "stdout",
     "output_type": "stream",
     "text": [
      "COMPASS dict_keys(['Blocker - P1', 'Critical - P2', 'Major - P3', 'Minor - P4', 'Trivial - P5'])\n",
      "DATACASS dict_keys(['Blocker', 'Critical', 'Major', 'Minor', 'Trivial'])\n",
      "FAB dict_keys(['High', 'Highest', 'Low', 'Lowest', 'Medium'])\n",
      "IS dict_keys(['High', 'Highest', 'Low', 'Lowest', 'Medium'])\n",
      "MDL dict_keys(['Blocker', 'Critical', 'Major', 'Minor', 'Trivial'])\n",
      "MOBILE dict_keys(['Blocker', 'Critical', 'Major', 'Minor', 'Trivial'])\n",
      "STL dict_keys(['High', 'Highest', 'Low', 'Lowest', 'Medium'])\n",
      "apstud dict_keys(['Critical', 'High', 'Low', 'Medium', 'None', 'Trivial'])\n",
      "dnn dict_keys(['Blocker', 'High', 'Low', 'Medium'])\n",
      "mesos dict_keys(['Blocker', 'Critical', 'Major', 'Minor', 'Trivial'])\n",
      "mule dict_keys(['Blocker', 'Critical', 'Major', 'Minor', 'To be reviewed', 'Trivial'])\n",
      "nexus dict_keys(['Blocker', 'Critical', 'Major', 'Minor', 'Trivial'])\n",
      "timob dict_keys(['Critical', 'High', 'Low', 'Medium', 'None', 'Trivial'])\n",
      "tistud dict_keys(['Critical', 'High', 'Low', 'Medium', 'None', 'Trivial'])\n",
      "xd dict_keys(['Blocker', 'Critical', 'Major', 'Minor', 'Trivial'])\n"
     ]
    }
   ],
   "source": [
    "projects = dataset.groupby(\"project\")\n",
    "for project, frame in projects: \n",
    "    priorities = frame.groupby(\"priority.name\")\n",
    "    print(project, priorities.groups.keys())"
   ]
  },
  {
   "cell_type": "code",
   "execution_count": 3,
   "id": "e54367df",
   "metadata": {},
   "outputs": [
    {
     "name": "stdout",
     "output_type": "stream",
     "text": [
      "COMPASS dict_keys(['Done', 'Fixed'])\n",
      "COMPASS dict_keys(['Closed', 'Needs Triage', 'Open', 'Ready for Work'])\n",
      "DATACASS dict_keys(['Complete', 'Done', 'Fixed'])\n",
      "DATACASS dict_keys(['Closed', 'Open', 'Resolved'])\n",
      "FAB dict_keys(['Done'])\n",
      "FAB dict_keys(['Backlog', 'Closed', 'To Do'])\n",
      "IS dict_keys(['Done'])\n",
      "IS dict_keys(['Code Review', 'Complete', 'In Progress', 'New', 'To Develop'])\n",
      "MDL dict_keys(['Done', 'Fixed'])\n",
      "MDL dict_keys(['Closed', 'Open'])\n",
      "MOBILE dict_keys(['Done', 'Fixed'])\n",
      "MOBILE dict_keys(['Closed', 'Open', 'Resolved'])\n",
      "STL dict_keys(['Done'])\n",
      "STL dict_keys(['Backlog', 'Complete', 'To Do'])\n",
      "apstud dict_keys(['Fixed'])\n",
      "apstud dict_keys(['Closed', 'Open', 'Resolved'])\n",
      "dnn dict_keys(['Complete', 'Done', 'Unresolved'])\n",
      "dnn dict_keys(['Closed', 'Open', 'Resolved'])\n",
      "mesos dict_keys(['Done', 'Fixed', 'Implemented', 'Resolved'])\n",
      "mesos dict_keys(['Open', 'Resolved'])\n",
      "mule dict_keys(['Done', 'Fixed'])\n",
      "mule dict_keys(['Closed', 'Resolved', 'To Do'])\n",
      "nexus dict_keys(['Done', 'Fixed'])\n",
      "nexus dict_keys(['Closed', 'Done', 'Open'])\n",
      "timob dict_keys(['Done', 'Fixed'])\n",
      "timob dict_keys(['Closed', 'Open', 'Resolved'])\n",
      "tistud dict_keys(['Fixed'])\n",
      "tistud dict_keys(['Closed', 'Open', 'Resolved'])\n",
      "xd dict_keys(['Complete', 'Fixed'])\n",
      "xd dict_keys(['Done', 'To Do'])\n"
     ]
    }
   ],
   "source": [
    "projects = dataset.groupby(\"project\")\n",
    "for project, frame in projects: \n",
    "    resolutions = frame.groupby(\"resolution.name\")\n",
    "    statuses = frame.groupby(\"status.name\")\n",
    "    print(project, resolutions.groups.keys())\n",
    "    print(project, statuses.groups.keys())\n",
    "    \n",
    "    done_resolutions = [\"Done\", \"Fixed\", \"Complete\", \"Resolved\", \"Implemented\"]\n",
    "    \n",
    "    backlog_statuses = [\"Open\", \"To Do\", \"New\"]\n",
    "    "
   ]
  },
  {
   "cell_type": "markdown",
   "id": "5127f649",
   "metadata": {},
   "source": [
    "Issues per project"
   ]
  },
  {
   "cell_type": "code",
   "execution_count": 4,
   "id": "92fc1ea0",
   "metadata": {},
   "outputs": [
    {
     "name": "stdout",
     "output_type": "stream",
     "text": [
      "COMPASS Total:  99000 Backlog:  13440\n",
      "DATACASS Total:  18150 Backlog:  840\n",
      "FAB Total:  282420 Backlog:  16620\n",
      "IS Total:  34920 Backlog:  6330\n",
      "MDL Total:  1227570 Backlog:  279390\n",
      "MOBILE Total:  79140 Backlog:  10050\n",
      "STL Total:  96300 Backlog:  27900\n",
      "apstud Total:  22980 Backlog:  6840\n",
      "dnn Total:  42510 Backlog:  2760\n",
      "mesos Total:  54180 Backlog:  1980\n",
      "mule Total:  38880 Backlog:  2820\n",
      "nexus Total:  28680 Backlog:  1260\n",
      "timob Total:  55410 Backlog:  3690\n",
      "tistud Total:  76710 Backlog:  5130\n",
      "xd Total:  89490 Backlog:  18660\n"
     ]
    }
   ],
   "source": [
    "projects = dataset.groupby(\"project\")\n",
    "for project, frame in projects: \n",
    "    print(project, \"Total: \" ,frame.size, \"Backlog: \", frame.loc[(frame[\"resolutiondate\"].isna())].size)"
   ]
  },
  {
   "cell_type": "code",
   "execution_count": 5,
   "id": "db727108",
   "metadata": {},
   "outputs": [
    {
     "name": "stdout",
     "output_type": "stream",
     "text": [
      "COMPASS\n",
      "COMPASS  Story points > 0:  47400 None or 0:  51600\n",
      "DATACASS\n",
      "DATACASS  Story points > 0:  4890 None or 0:  13260\n",
      "FAB\n",
      "FAB  Story points > 0:  15180 None or 0:  267240\n",
      "IS\n",
      "IS  Story points > 0:  18960 None or 0:  15960\n",
      "MDL\n",
      "MDL  Story points > 0:  35880 None or 0:  1191690\n",
      "MOBILE\n",
      "MOBILE  Story points > 0:  0 None or 0:  79140\n",
      "STL\n",
      "STL  Story points > 0:  56640 None or 0:  39660\n",
      "apstud\n",
      "apstud  Story points > 0:  22110 None or 0:  870\n",
      "dnn\n",
      "dnn  Story points > 0:  42420 None or 0:  90\n",
      "mesos\n",
      "mesos  Story points > 0:  54120 None or 0:  60\n",
      "mule\n",
      "mule  Story points > 0:  32130 None or 0:  6750\n",
      "nexus\n",
      "nexus  Story points > 0:  28440 None or 0:  240\n",
      "timob\n",
      "timob  Story points > 0:  54720 None or 0:  690\n",
      "tistud\n",
      "tistud  Story points > 0:  76560 None or 0:  150\n",
      "xd\n",
      "xd  Story points > 0:  86220 None or 0:  3270\n"
     ]
    }
   ],
   "source": [
    "projects = dataset.groupby(\"project\")\n",
    "for project, frame in projects: \n",
    "    print(project)\n",
    "    print(project, \" Story points > 0: \", frame.loc[(frame[\"storypoints\"] > 0)].size, \"None or 0: \", frame.loc[(frame[\"storypoints\"].isna()) | (frame[\"storypoints\"] == 0)].size)"
   ]
  },
  {
   "cell_type": "code",
   "execution_count": 6,
   "id": "0b7e4b7a",
   "metadata": {},
   "outputs": [
    {
     "data": {
      "text/plain": [
       "4105    2016-04-07T18:17:07.000-0700\n",
       "4114    2016-04-06T16:35:08.000-0700\n",
       "4115    2016-04-06T16:35:08.000-0700\n",
       "4116    2016-04-06T16:36:01.000-0700\n",
       "4117    2016-04-06T16:36:01.000-0700\n",
       "                    ...             \n",
       "6233    2015-11-27T03:19:29.000-0800\n",
       "6234    2015-11-27T03:19:29.000-0800\n",
       "6235    2015-11-27T03:19:29.000-0800\n",
       "6937    2016-01-06T10:45:51.000-0800\n",
       "6938    2016-01-06T10:45:51.000-0800\n",
       "Name: resolutiondate, Length: 205, dtype: object"
      ]
     },
     "execution_count": 6,
     "metadata": {},
     "output_type": "execute_result"
    }
   ],
   "source": [
    "\n",
    "done = h.get_done_issues(dataset)\n",
    "df = done.loc[done[\"assignee.name\"] == \"Amritpal.Manak\"]\n",
    "df[\"resolutiondate\"].head(2000)"
   ]
  },
  {
   "cell_type": "code",
   "execution_count": 10,
   "id": "758157a6",
   "metadata": {},
   "outputs": [
    {
     "name": "stdout",
     "output_type": "stream",
     "text": [
      "COMPASS ---------------------------------\n",
      "resolution.name\n",
      "Cannot Reproduce       100\n",
      "Community Answered      16\n",
      "Declined                28\n",
      "Done                  1660\n",
      "Duplicate              340\n",
      "Fixed                 1708\n",
      "Gone away              480\n",
      "Incomplete             252\n",
      "Won't Do                44\n",
      "Won't Fix              448\n",
      "Works as Designed      104\n",
      "dtype: int64\n",
      "DATACASS ---------------------------------\n",
      "resolution.name\n",
      "Cannot Reproduce       4\n",
      "Complete             392\n",
      "Done                   3\n",
      "Duplicate             41\n",
      "Fixed                183\n",
      "Incomplete             3\n",
      "Invalid               17\n",
      "Won't Fix             33\n",
      "Works as Designed     27\n",
      "dtype: int64\n",
      "FAB ---------------------------------\n",
      "resolution.name\n",
      "Done                          9958\n",
      "Duplicate                      412\n",
      "Invalid                        275\n",
      "Invalid: Environment Issue      53\n",
      "Invalid: Not Supported          11\n",
      "Invalid: Test Error             29\n",
      "Invalid: Works as Expected     173\n",
      "Won't Do                      1343\n",
      "dtype: int64\n",
      "IS ---------------------------------\n",
      "resolution.name\n",
      "Cannot Reproduce                 7\n",
      "Deferred                        14\n",
      "Done                          1126\n",
      "Duplicate                       16\n",
      "Invalid                         86\n",
      "Invalid: Environment Issue       2\n",
      "Invalid: Works as Expected       6\n",
      "Won't Do                        30\n",
      "dtype: int64\n",
      "MDL ---------------------------------\n",
      "resolution.name\n",
      "Cannot Reproduce     3462\n",
      "Deferred              916\n",
      "Done                  355\n",
      "Duplicate            5261\n",
      "Fixed               32035\n",
      "Inactive             1860\n",
      "Incomplete            531\n",
      "Not a bug            4197\n",
      "Won't Do              111\n",
      "Won't Fix            5798\n",
      "dtype: int64\n",
      "MOBILE ---------------------------------\n",
      "resolution.name\n",
      "Cannot Reproduce      43\n",
      "Deferred              18\n",
      "Done                 289\n",
      "Duplicate            141\n",
      "Fixed               2053\n",
      "Inactive               3\n",
      "Incomplete             2\n",
      "Not a bug            143\n",
      "Won't Do              54\n",
      "Won't Fix            168\n",
      "dtype: int64\n",
      "STL ---------------------------------\n",
      "resolution.name\n",
      "Done    2314\n",
      "dtype: int64\n",
      "apstud ---------------------------------\n",
      "resolution.name\n",
      "Cannot Reproduce     30\n",
      "Duplicate            26\n",
      "Fixed               538\n",
      "Hold                  1\n",
      "Invalid              14\n",
      "Needs more info      14\n",
      "Not Our Bug           1\n",
      "Won't Fix            17\n",
      "dtype: int64\n",
      "dnn ---------------------------------\n",
      "resolution.name\n",
      "Cannot Reproduce     285\n",
      "Complete            2426\n",
      "Done                  17\n",
      "Duplicate             74\n",
      "Unresolved           145\n",
      "Won't Do               5\n",
      "Won't Fix            298\n",
      "dtype: int64\n",
      "mesos ---------------------------------\n",
      "resolution.name\n",
      "Cannot Reproduce      13\n",
      "Done                  16\n",
      "Duplicate             43\n",
      "Fixed               1706\n",
      "Implemented           23\n",
      "Invalid                7\n",
      "Later                  2\n",
      "Not A Problem         13\n",
      "Pending Closed         3\n",
      "Resolved               3\n",
      "Unresolved            10\n",
      "Won't Fix             38\n",
      "dtype: int64\n",
      "mule ---------------------------------\n",
      "resolution.name\n",
      "Cannot Reproduce              10\n",
      "Completed                     74\n",
      "Done                          36\n",
      "Duplicate                     12\n",
      "Fixed                       1168\n",
      "Won't Fix or Usage Issue      94\n",
      "dtype: int64\n",
      "nexus ---------------------------------\n",
      "resolution.name\n",
      "Cannot Reproduce      28\n",
      "Done                   8\n",
      "Duplicate             17\n",
      "Fixed               1038\n",
      "Incomplete            34\n",
      "Not A Bug              4\n",
      "Out of scope          13\n",
      "Won't Fix             82\n",
      "dtype: int64\n",
      "timob ---------------------------------\n",
      "resolution.name\n",
      "Cannot Reproduce      41\n",
      "Done                  19\n",
      "Duplicate             69\n",
      "Fixed               1705\n",
      "Hold                  17\n",
      "Invalid               54\n",
      "Needs more info        5\n",
      "Not Our Bug           17\n",
      "Won't Do               5\n",
      "Won't Fix             35\n",
      "dtype: int64\n",
      "tistud ---------------------------------\n",
      "resolution.name\n",
      "Cannot Reproduce      74\n",
      "Duplicate             72\n",
      "Fixed               2386\n",
      "Hold                   9\n",
      "Invalid               61\n",
      "Needs more info       10\n",
      "Not Our Bug           20\n",
      "Won't Fix             48\n",
      "dtype: int64\n",
      "xd ---------------------------------\n",
      "resolution.name\n",
      "Cannot Reproduce       20\n",
      "Complete             2520\n",
      "Deferred              111\n",
      "Duplicate             134\n",
      "Fixed                  39\n",
      "Incomplete              9\n",
      "Invalid               127\n",
      "Won't Fix             130\n",
      "Works as Designed      46\n",
      "dtype: int64\n"
     ]
    }
   ],
   "source": [
    "dataset = pd.read_csv('../dataset/jiradataset_issues_v1.4.csv', encoding='utf-8')\n",
    "\n",
    "grouping = dataset.groupby(\"project\")\n",
    "\n",
    "for project, df in grouping:\n",
    "\tprint(project, \"---------------------------------\")\n",
    "\ttest = df.groupby(\"resolution.name\").size()\n",
    "\tprint(test)"
   ]
  },
  {
   "cell_type": "code",
   "execution_count": 8,
   "id": "756e7450",
   "metadata": {},
   "outputs": [],
   "source": [
    "\n",
    "dataset = pd.read_csv('../dataset/jiradataset_issues_v1.4.csv', encoding='utf-8')\n",
    "\n",
    "total = dataset.groupby(\"project\").size().reset_index(name ='total')\n",
    "\n",
    "dataset = pp.add_backlog_completed_flag(dataset)\n",
    "\n",
    "total_after_pp = dataset.groupby(\"project\").size().reset_index(name ='after_pp')\n",
    "\n",
    "done_for_each_project = h.get_done_issues(dataset).groupby(\"project\").size().reset_index(name ='done')\n",
    "\n",
    "backlog_for_each_project = h.get_backlog_issues(dataset).groupby(\"project\").size().reset_index(name ='backlog')\n",
    "\n",
    "grouped = dataset.groupby(\"project\")\n",
    "\n",
    "for project, df in grouped:\n",
    "    devs = df.groupby(\"assignee.name\").size().reset_index(name ='total')\n",
    "    print(devs)\n",
    "\n",
    "df = pd.merge(total, total_after_pp, on=\"project\", right_index = True,\n",
    "               left_index = True, )\n",
    "\n",
    "df = pd.merge(df, done_for_each_project, on=\"project\",right_index = True,\n",
    "               left_index = True)\n",
    "\n",
    "df = pd.merge(df, backlog_for_each_project, on=\"project\",right_index = True,\n",
    "               left_index = True)\n",
    "\n",
    "df.to_csv(\"./issue-counts.csv\")"
   ]
  },
  {
   "cell_type": "code",
   "execution_count": 9,
   "id": "c4bbffb6",
   "metadata": {},
   "outputs": [
    {
     "name": "stdout",
     "output_type": "stream",
     "text": [
      "starting nr of issues 111048\n",
      "add_backlog_completed_flag\n",
      "after backlog and done filtering 74878\n",
      "removed 36170\n",
      "add_businessvalue\n",
      "merge_desc_sum\n",
      "add_preprocessed_text\n"
     ]
    }
   ],
   "source": [
    "dataset = pd.read_csv('../dataset/jiradataset_issues_v1.4.csv', encoding='utf-8')\n",
    "\n",
    "dataset = pp.preprocess(dataset)"
   ]
  }
 ],
 "metadata": {
  "kernelspec": {
   "display_name": "Python 3",
   "language": "python",
   "name": "python3"
  },
  "language_info": {
   "codemirror_mode": {
    "name": "ipython",
    "version": 3
   },
   "file_extension": ".py",
   "mimetype": "text/x-python",
   "name": "python",
   "nbconvert_exporter": "python",
   "pygments_lexer": "ipython3",
   "version": "3.7.9"
  }
 },
 "nbformat": 4,
 "nbformat_minor": 5
}
