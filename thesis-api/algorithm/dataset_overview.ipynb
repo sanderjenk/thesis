{
 "cells": [
  {
   "cell_type": "code",
   "execution_count": 2,
   "id": "92a0cb18-e2e6-4a87-bf5a-d6f9ec986094",
   "metadata": {},
   "outputs": [
    {
     "data": {
      "text/html": [
       "<div>\n",
       "<style scoped>\n",
       "    .dataframe tbody tr th:only-of-type {\n",
       "        vertical-align: middle;\n",
       "    }\n",
       "\n",
       "    .dataframe tbody tr th {\n",
       "        vertical-align: top;\n",
       "    }\n",
       "\n",
       "    .dataframe thead th {\n",
       "        text-align: right;\n",
       "    }\n",
       "</style>\n",
       "<table border=\"1\" class=\"dataframe\">\n",
       "  <thead>\n",
       "    <tr style=\"text-align: right;\">\n",
       "      <th></th>\n",
       "      <th>status.id</th>\n",
       "      <th>watches.watchCount</th>\n",
       "      <th>storypoints</th>\n",
       "    </tr>\n",
       "  </thead>\n",
       "  <tbody>\n",
       "    <tr>\n",
       "      <th>count</th>\n",
       "      <td>111048.000000</td>\n",
       "      <td>111048.000000</td>\n",
       "      <td>2.484000e+04</td>\n",
       "    </tr>\n",
       "    <tr>\n",
       "      <th>mean</th>\n",
       "      <td>961.120479</td>\n",
       "      <td>2.452867</td>\n",
       "      <td>1.080227e+03</td>\n",
       "    </tr>\n",
       "    <tr>\n",
       "      <th>std</th>\n",
       "      <td>2944.655296</td>\n",
       "      <td>3.641834</td>\n",
       "      <td>1.694728e+05</td>\n",
       "    </tr>\n",
       "    <tr>\n",
       "      <th>min</th>\n",
       "      <td>1.000000</td>\n",
       "      <td>0.000000</td>\n",
       "      <td>0.000000e+00</td>\n",
       "    </tr>\n",
       "    <tr>\n",
       "      <th>25%</th>\n",
       "      <td>6.000000</td>\n",
       "      <td>1.000000</td>\n",
       "      <td>2.000000e+00</td>\n",
       "    </tr>\n",
       "    <tr>\n",
       "      <th>50%</th>\n",
       "      <td>6.000000</td>\n",
       "      <td>2.000000</td>\n",
       "      <td>3.000000e+00</td>\n",
       "    </tr>\n",
       "    <tr>\n",
       "      <th>75%</th>\n",
       "      <td>6.000000</td>\n",
       "      <td>3.000000</td>\n",
       "      <td>5.000000e+00</td>\n",
       "    </tr>\n",
       "    <tr>\n",
       "      <th>max</th>\n",
       "      <td>10953.000000</td>\n",
       "      <td>156.000000</td>\n",
       "      <td>2.671011e+07</td>\n",
       "    </tr>\n",
       "  </tbody>\n",
       "</table>\n",
       "</div>"
      ],
      "text/plain": [
       "           status.id  watches.watchCount   storypoints\n",
       "count  111048.000000       111048.000000  2.484000e+04\n",
       "mean      961.120479            2.452867  1.080227e+03\n",
       "std      2944.655296            3.641834  1.694728e+05\n",
       "min         1.000000            0.000000  0.000000e+00\n",
       "25%         6.000000            1.000000  2.000000e+00\n",
       "50%         6.000000            2.000000  3.000000e+00\n",
       "75%         6.000000            3.000000  5.000000e+00\n",
       "max     10953.000000          156.000000  2.671011e+07"
      ]
     },
     "execution_count": 2,
     "metadata": {},
     "output_type": "execute_result"
    }
   ],
   "source": [
    "import pandas as pd\n",
    "dataset = pd.read_csv('../dataset/jiradataset_issues_v1.4.csv', encoding='utf-8')\n",
    "dataset.describe()"
   ]
  },
  {
   "cell_type": "code",
   "execution_count": 3,
   "id": "347e9da1-b086-4494-928d-d2a13bd34d77",
   "metadata": {},
   "outputs": [
    {
     "name": "stdout",
     "output_type": "stream",
     "text": [
      "COMPASS dict_keys(['Blocker - P1', 'Critical - P2', 'Major - P3', 'Minor - P4', 'Trivial - P5'])\n",
      "DATACASS dict_keys(['Blocker', 'Critical', 'Major', 'Minor', 'Trivial'])\n",
      "FAB dict_keys(['High', 'Highest', 'Low', 'Lowest', 'Medium'])\n",
      "IS dict_keys(['High', 'Highest', 'Low', 'Lowest', 'Medium'])\n",
      "MDL dict_keys(['Blocker', 'Critical', 'Major', 'Minor', 'Trivial'])\n",
      "MOBILE dict_keys(['Blocker', 'Critical', 'Major', 'Minor', 'Trivial'])\n",
      "STL dict_keys(['High', 'Highest', 'Low', 'Lowest', 'Medium'])\n",
      "apstud dict_keys(['Critical', 'High', 'Low', 'Medium', 'None', 'Trivial'])\n",
      "dnn dict_keys(['Blocker', 'High', 'Low', 'Medium'])\n",
      "mesos dict_keys(['Blocker', 'Critical', 'Major', 'Minor', 'Trivial'])\n",
      "mule dict_keys(['Blocker', 'Critical', 'Major', 'Minor', 'To be reviewed', 'Trivial'])\n",
      "nexus dict_keys(['Blocker', 'Critical', 'Major', 'Minor', 'Trivial'])\n",
      "timob dict_keys(['Critical', 'High', 'Low', 'Medium', 'None', 'Trivial'])\n",
      "tistud dict_keys(['Critical', 'High', 'Low', 'Medium', 'None', 'Trivial'])\n",
      "xd dict_keys(['Blocker', 'Critical', 'Major', 'Minor', 'Trivial'])\n"
     ]
    }
   ],
   "source": [
    "projects = dataset.groupby(\"project\")\n",
    "for project, frame in projects: \n",
    "    priorities = frame.groupby(\"priority.name\")\n",
    "    print(project, priorities.groups.keys())"
   ]
  },
  {
   "cell_type": "code",
   "execution_count": 6,
   "id": "e54367df",
   "metadata": {},
   "outputs": [
    {
     "name": "stdout",
     "output_type": "stream",
     "text": [
      "COMPASS dict_keys(['Cannot Reproduce', 'Community Answered', 'Declined', 'Done', 'Duplicate', 'Fixed', 'Gone away', 'Incomplete', \"Won't Do\", \"Won't Fix\", 'Works as Designed'])\n",
      "COMPASS dict_keys(['Closed', 'Debugging With Submitter', 'In Progress', 'Needs Triage', 'Open', 'Ready for Work', 'Resolved', 'Scoping', 'Waiting (Blocked)'])\n",
      "DATACASS dict_keys(['Cannot Reproduce', 'Complete', 'Done', 'Duplicate', 'Fixed', 'Incomplete', 'Invalid', \"Won't Fix\", 'Works as Designed'])\n",
      "DATACASS dict_keys(['Closed', 'In Progress', 'Investigating', 'Open', 'Resolved', 'Waiting for Review'])\n",
      "FAB dict_keys(['Done', 'Duplicate', 'Invalid', 'Invalid: Environment Issue', 'Invalid: Not Supported', 'Invalid: Test Error', 'Invalid: Works as Expected', \"Won't Do\"])\n",
      "FAB dict_keys(['Backlog', 'Closed', 'In CR Review', 'In Progress', 'Returned', 'To Do', 'Unverified'])\n",
      "IS dict_keys(['Cannot Reproduce', 'Deferred', 'Done', 'Duplicate', 'Invalid', 'Invalid: Environment Issue', 'Invalid: Works as Expected', \"Won't Do\"])\n",
      "IS dict_keys(['Code Review', 'Complete', 'In Progress', 'New', 'To Develop', 'To Test'])\n",
      "MDL dict_keys(['Cannot Reproduce', 'Deferred', 'Done', 'Duplicate', 'Fixed', 'Inactive', 'Incomplete', 'Not a bug', \"Won't Do\", \"Won't Fix\"])\n",
      "MDL dict_keys(['Closed', 'Development in progress', 'Integration review in progress', 'Open', 'Peer review in progress', 'Reopened', 'Tested', 'Waiting for integration review', 'Waiting for peer review', 'Waiting for testing'])\n",
      "MOBILE dict_keys(['Cannot Reproduce', 'Deferred', 'Done', 'Duplicate', 'Fixed', 'Inactive', 'Incomplete', 'Not a bug', \"Won't Do\", \"Won't Fix\"])\n",
      "MOBILE dict_keys(['Closed', 'Development in progress', 'Open', 'Reopened', 'Resolved', 'Waiting for integration review', 'Waiting for peer review', 'Waiting for testing'])\n",
      "STL dict_keys(['Done'])\n",
      "STL dict_keys(['Backlog', 'Complete', 'In Progress', 'In Review', 'Planning', 'To Do'])\n",
      "apstud dict_keys(['Cannot Reproduce', 'Duplicate', 'Fixed', 'Hold', 'Invalid', 'Needs more info', 'Not Our Bug', \"Won't Fix\"])\n",
      "apstud dict_keys(['Closed', 'In  Review', 'Open', 'Reopened', 'Resolved'])\n",
      "dnn dict_keys(['Cannot Reproduce', 'Complete', 'Done', 'Duplicate', 'Unresolved', \"Won't Do\", \"Won't Fix\"])\n",
      "dnn dict_keys(['Closed', 'Open', 'Planned Development', 'Pull Request Submitted', 'Reopened', 'Resolved'])\n",
      "mesos dict_keys(['Cannot Reproduce', 'Done', 'Duplicate', 'Fixed', 'Implemented', 'Invalid', 'Later', 'Not A Problem', 'Pending Closed', 'Resolved', 'Unresolved', \"Won't Fix\"])\n",
      "mesos dict_keys(['Accepted', 'In Progress', 'Open', 'Resolved', 'Reviewable'])\n",
      "mule dict_keys(['Cannot Reproduce', 'Completed', 'Done', 'Duplicate', 'Fixed', \"Won't Fix or Usage Issue\"])\n",
      "mule dict_keys(['Closed', 'In Progress', 'Reopened', 'Resolved', 'To Do'])\n",
      "nexus dict_keys(['Cannot Reproduce', 'Done', 'Duplicate', 'Fixed', 'Incomplete', 'Not A Bug', 'Out of scope', \"Won't Fix\"])\n",
      "nexus dict_keys(['Closed', 'Done', 'Open', 'Raw', 'Refine'])\n",
      "timob dict_keys(['Cannot Reproduce', 'Done', 'Duplicate', 'Fixed', 'Hold', 'Invalid', 'Needs more info', 'Not Our Bug', \"Won't Do\", \"Won't Fix\"])\n",
      "timob dict_keys(['Closed', 'In  Review', 'In Progress', 'Open', 'Reopened', 'Resolved'])\n",
      "tistud dict_keys(['Cannot Reproduce', 'Duplicate', 'Fixed', 'Hold', 'Invalid', 'Needs more info', 'Not Our Bug', \"Won't Fix\"])\n",
      "tistud dict_keys(['Closed', 'In  Review', 'In Progress', 'Open', 'Reopened', 'Resolved'])\n",
      "xd dict_keys(['Cannot Reproduce', 'Complete', 'Deferred', 'Duplicate', 'Fixed', 'Incomplete', 'Invalid', \"Won't Fix\", 'Works as Designed'])\n",
      "xd dict_keys(['Done', 'In PR', 'In Progress', 'To Do'])\n"
     ]
    }
   ],
   "source": [
    "projects = dataset.groupby(\"project\")\n",
    "for project, frame in projects: \n",
    "    resolutions = frame.groupby(\"resolution.name\")\n",
    "    statuses = frame.groupby(\"status.name\")\n",
    "    print(project, resolutions.groups.keys())\n",
    "    print(project, statuses.groups.keys())"
   ]
  },
  {
   "cell_type": "markdown",
   "id": "5127f649",
   "metadata": {},
   "source": [
    "Issues per project"
   ]
  },
  {
   "cell_type": "code",
   "execution_count": 12,
   "id": "92fc1ea0",
   "metadata": {},
   "outputs": [
    {
     "name": "stdout",
     "output_type": "stream",
     "text": [
      "COMPASS Total:  149088 Backlog:  19392\n",
      "DATACASS Total:  17640 Backlog:  0\n",
      "FAB Total:  313272 Backlog:  11664\n",
      "IS Total:  36384 Backlog:  4272\n",
      "MDL Total:  1556616 Backlog:  209472\n",
      "MOBILE Total:  78552 Backlog:  5928\n",
      "STL Total:  79440 Backlog:  4128\n",
      "apstud Total:  21264 Backlog:  0\n",
      "dnn Total:  79872 Backlog:  3096\n",
      "mesos Total:  55296 Backlog:  3408\n",
      "mule Total:  35928 Backlog:  1272\n",
      "nexus Total:  30432 Backlog:  1032\n",
      "timob Total:  51456 Backlog:  0\n",
      "tistud Total:  69096 Backlog:  0\n",
      "xd Total:  90816 Backlog:  12192\n"
     ]
    }
   ],
   "source": [
    "projects = dataset.groupby(\"project\")\n",
    "for project, frame in projects: \n",
    "    print(project, \"Total: \" ,frame.size, \"Backlog: \", frame.loc[(frame[\"resolutiondate\"].isna())].size)"
   ]
  },
  {
   "cell_type": "code",
   "execution_count": 24,
   "id": "db727108",
   "metadata": {},
   "outputs": [
    {
     "name": "stdout",
     "output_type": "stream",
     "text": [
      "COMPASS  Story points > 0:  44928 None or 0:  104160\n",
      "DATACASS  Story points > 0:  5184 None or 0:  12456\n",
      "FAB  Story points > 0:  13824 None or 0:  299448\n",
      "IS  Story points > 0:  16992 None or 0:  19392\n",
      "MDL  Story points > 0:  32856 None or 0:  1523760\n",
      "MOBILE  Story points > 0:  0 None or 0:  78552\n",
      "STL  Story points > 0:  45600 None or 0:  33840\n",
      "apstud  Story points > 0:  20040 None or 0:  1224\n",
      "dnn  Story points > 0:  79656 None or 0:  216\n",
      "mesos  Story points > 0:  55248 None or 0:  48\n",
      "mule  Story points > 0:  29856 None or 0:  6072\n",
      "nexus  Story points > 0:  30120 None or 0:  312\n",
      "timob  Story points > 0:  50784 None or 0:  672\n",
      "tistud  Story points > 0:  68952 None or 0:  144\n",
      "xd  Story points > 0:  86808 None or 0:  4008\n"
     ]
    }
   ],
   "source": [
    "projects = dataset.groupby(\"project\")\n",
    "for project, frame in projects: \n",
    "    print(project, \" Story points > 0: \", frame.loc[(frame[\"storypoints\"] > 0)].size, \"None or 0: \", frame.loc[(frame[\"storypoints\"].isna()) | (frame[\"storypoints\"] == 0)].size)"
   ]
  }
 ],
 "metadata": {
  "kernelspec": {
   "display_name": "Python 3",
   "language": "python",
   "name": "python3"
  },
  "language_info": {
   "codemirror_mode": {
    "name": "ipython",
    "version": 3
   },
   "file_extension": ".py",
   "mimetype": "text/x-python",
   "name": "python",
   "nbconvert_exporter": "python",
   "pygments_lexer": "ipython3",
   "version": "3.9.0"
  }
 },
 "nbformat": 4,
 "nbformat_minor": 5
}
