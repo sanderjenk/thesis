{
 "cells": [
  {
   "cell_type": "code",
   "execution_count": 1,
   "id": "92a0cb18-e2e6-4a87-bf5a-d6f9ec986094",
   "metadata": {},
   "outputs": [],
   "source": [
    "import pandas as pd\n",
    "dataset = pd.read_csv('./dataset/jiradataset_issues_v1.4.csv', encoding='utf-8')"
   ]
  },
  {
   "cell_type": "code",
   "execution_count": 23,
   "id": "347e9da1-b086-4494-928d-d2a13bd34d77",
   "metadata": {},
   "outputs": [
    {
     "name": "stdout",
     "output_type": "stream",
     "text": [
      "COMPASS dict_keys(['Blocker - P1', 'Critical - P2', 'Major - P3', 'Minor - P4', 'Trivial - P5'])\n",
      "DATACASS dict_keys(['Blocker', 'Critical', 'Major', 'Minor', 'Trivial'])\n",
      "FAB dict_keys(['High', 'Highest', 'Low', 'Lowest', 'Medium'])\n",
      "IS dict_keys(['High', 'Highest', 'Low', 'Lowest', 'Medium'])\n",
      "MDL dict_keys(['Blocker', 'Critical', 'Major', 'Minor', 'Trivial'])\n",
      "MOBILE dict_keys(['Blocker', 'Critical', 'Major', 'Minor', 'Trivial'])\n",
      "STL dict_keys(['High', 'Highest', 'Low', 'Lowest', 'Medium'])\n",
      "apstud dict_keys(['Critical', 'High', 'Low', 'Medium', 'None', 'Trivial'])\n",
      "dnn dict_keys(['Blocker', 'High', 'Low', 'Medium'])\n",
      "mesos dict_keys(['Blocker', 'Critical', 'Major', 'Minor', 'Trivial'])\n",
      "mule dict_keys(['Blocker', 'Critical', 'Major', 'Minor', 'To be reviewed', 'Trivial'])\n",
      "nexus dict_keys(['Blocker', 'Critical', 'Major', 'Minor', 'Trivial'])\n",
      "timob dict_keys(['Critical', 'High', 'Low', 'Medium', 'None', 'Trivial'])\n",
      "tistud dict_keys(['Critical', 'High', 'Low', 'Medium', 'None', 'Trivial'])\n",
      "xd dict_keys(['Blocker', 'Critical', 'Major', 'Minor', 'Trivial'])\n"
     ]
    }
   ],
   "source": [
    "projects = dataset.groupby(\"project\")\n",
    "for project, frame in projects: \n",
    "    priorities = frame.groupby(\"priority.name\")\n",
    "    print(project, priorities.groups.keys())"
   ]
  },
  {
   "cell_type": "code",
   "execution_count": 4,
   "id": "e54367df",
   "metadata": {},
   "outputs": [
    {
     "data": {
      "text/plain": [
       "pandas.core.groupby.generic.DataFrameGroupBy"
      ]
     },
     "execution_count": 4,
     "metadata": {},
     "output_type": "execute_result"
    }
   ],
   "source": []
  }
 ],
 "metadata": {
  "kernelspec": {
   "display_name": "Python 3",
   "language": "python",
   "name": "python3"
  },
  "language_info": {
   "codemirror_mode": {
    "name": "ipython",
    "version": 3
   },
   "file_extension": ".py",
   "mimetype": "text/x-python",
   "name": "python",
   "nbconvert_exporter": "python",
   "pygments_lexer": "ipython3",
   "version": "3.9.0"
  }
 },
 "nbformat": 4,
 "nbformat_minor": 5
}
